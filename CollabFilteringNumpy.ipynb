{
 "cells": [
  {
   "cell_type": "code",
   "id": "initial_id",
   "metadata": {
    "collapsed": true,
    "ExecuteTime": {
     "end_time": "2025-05-09T14:33:50.503922Z",
     "start_time": "2025-05-09T14:33:38.338323Z"
    }
   },
   "source": [
    "# Collaborative Filtering for Anime Data (Custom Numpy Implementation)\n",
    "\n",
    "import numpy as np\n",
    "import pandas as pd\n",
    "from sklearn.metrics import mean_absolute_error, mean_squared_error"
   ],
   "outputs": [],
   "execution_count": 1
  },
  {
   "metadata": {
    "ExecuteTime": {
     "end_time": "2025-05-09T14:33:58.612027Z",
     "start_time": "2025-05-09T14:33:50.529200Z"
    }
   },
   "cell_type": "code",
   "source": [
    "# Load data\n",
    "ratings_df = pd.read_csv(r\"C:\\Users\\MANAV\\PycharmProjects\\PythonProject\\PinnacleEndTerm\\data\\ratings.csv\")\n",
    "anime_df = pd.read_csv(r\"C:\\Users\\MANAV\\PycharmProjects\\PythonProject\\PinnacleEndTerm\\data\\anime.csv\")\n",
    "users_df = pd.read_csv(r\"C:\\Users\\MANAV\\PycharmProjects\\PythonProject\\PinnacleEndTerm\\data\\users.csv\")"
   ],
   "id": "e0c9a6c3fa7c2189",
   "outputs": [],
   "execution_count": 2
  },
  {
   "metadata": {
    "ExecuteTime": {
     "end_time": "2025-05-09T14:34:00.236692Z",
     "start_time": "2025-05-09T14:33:59.818746Z"
    }
   },
   "cell_type": "code",
   "source": [
    "# Filter necessary data (reduce size for faster training)\n",
    "filtered_df = ratings_df[(ratings_df['adjusted_rating'] > 0)].sample(n=5000, random_state=42)"
   ],
   "id": "3791efde595fc503",
   "outputs": [],
   "execution_count": 3
  },
  {
   "metadata": {
    "ExecuteTime": {
     "end_time": "2025-05-09T14:34:00.345142Z",
     "start_time": "2025-05-09T14:34:00.315498Z"
    }
   },
   "cell_type": "code",
   "source": [
    "# Encode usernames and anime IDs\n",
    "user_to_index = {u: i for i, u in enumerate(filtered_df['username'].unique())}\n",
    "anime_to_index = {a: i for i, a in enumerate(filtered_df['anime_id'].unique())}\n",
    "\n",
    "filtered_df['user_index'] = filtered_df['username'].map(user_to_index)\n",
    "filtered_df['anime_index'] = filtered_df['anime_id'].map(anime_to_index)\n",
    "\n",
    "num_users = len(user_to_index)\n",
    "num_anime = len(anime_to_index)"
   ],
   "id": "b96128cd968d0472",
   "outputs": [],
   "execution_count": 4
  },
  {
   "metadata": {
    "ExecuteTime": {
     "end_time": "2025-05-09T14:34:00.469852Z",
     "start_time": "2025-05-09T14:34:00.429024Z"
    }
   },
   "cell_type": "code",
   "source": [
    "# Create rating matrix Y and indicator matrix R\n",
    "Y = np.zeros((num_anime, num_users))\n",
    "R = np.zeros((num_anime, num_users))\n",
    "\n",
    "for row in filtered_df.itertuples():\n",
    "    Y[row.anime_index, row.user_index] = row.adjusted_rating\n",
    "    R[row.anime_index, row.user_index] = 1"
   ],
   "id": "1cc52a1c376167af",
   "outputs": [],
   "execution_count": 5
  },
  {
   "metadata": {
    "ExecuteTime": {
     "end_time": "2025-05-09T14:34:00.547940Z",
     "start_time": "2025-05-09T14:34:00.534284Z"
    }
   },
   "cell_type": "code",
   "source": [
    "# Select genre columns\n",
    "genre_columns = [col for col in anime_df.columns if col in [\n",
    "    'Action', 'Adventure', 'Cars', 'Comedy', 'Dementia', 'Demons', 'Drama', 'Ecchi', 'Fantasy', 'Game', 'Harem',\n",
    "    'Hentai', 'Historical', 'Horror', 'Josei', 'Kids', 'Magic', 'Martial Arts', 'Mecha', 'Military', 'Music',\n",
    "    'Mystery', 'Parody', 'Police', 'Psychological', 'Romance', 'Samurai', 'School', 'Sci-Fi', 'Seinen', 'Shoujo',\n",
    "    'Shoujo Ai', 'Shounen', 'Shounen Ai', 'Slice of Life', 'Space', 'Sports', 'Super Power', 'Supernatural',\n",
    "    'Thriller', 'Vampire']]"
   ],
   "id": "f1f867b24e62c5",
   "outputs": [],
   "execution_count": 6
  },
  {
   "metadata": {
    "ExecuteTime": {
     "end_time": "2025-05-09T14:34:00.625940Z",
     "start_time": "2025-05-09T14:34:00.613149Z"
    }
   },
   "cell_type": "code",
   "source": [
    "# Build genre matrix for anime features\n",
    "anime_df['anime_index'] = anime_df['anime_id'].map(anime_to_index)\n",
    "genre_matrix = anime_df.set_index('anime_index').reindex(range(num_anime))[genre_columns].fillna(0).astype(float)"
   ],
   "id": "9bfdeedad2c1dc95",
   "outputs": [],
   "execution_count": 7
  },
  {
   "metadata": {
    "ExecuteTime": {
     "end_time": "2025-05-09T14:34:00.719983Z",
     "start_time": "2025-05-09T14:34:00.706930Z"
    }
   },
   "cell_type": "code",
   "source": [
    "# Use genre features as initial X, optionally add learnable noise features\n",
    "genre_features = genre_matrix.values\n",
    "extra_features = 5\n",
    "X_learned = np.random.randn(num_anime, extra_features)\n",
    "X = np.hstack([genre_features, X_learned])\n",
    "num_features = X.shape[1]"
   ],
   "id": "ea8031d66ac2fa73",
   "outputs": [],
   "execution_count": 8
  },
  {
   "metadata": {
    "ExecuteTime": {
     "end_time": "2025-05-09T14:34:00.798912Z",
     "start_time": "2025-05-09T14:34:00.785337Z"
    }
   },
   "cell_type": "code",
   "source": [
    "# Initialize user features and bias\n",
    "W = np.random.randn(num_users, num_features)\n",
    "b = np.zeros((1, num_users))"
   ],
   "id": "c1a0b9056e031fae",
   "outputs": [],
   "execution_count": 9
  },
  {
   "metadata": {
    "ExecuteTime": {
     "end_time": "2025-05-09T14:34:00.876609Z",
     "start_time": "2025-05-09T14:34:00.863065Z"
    }
   },
   "cell_type": "code",
   "source": [
    "# Cost function\n",
    "def cofi_cost_func(X, W, b, Y, R, lambda_):\n",
    "    J = 0\n",
    "    num_movies, num_users = Y.shape\n",
    "    for i in range(num_movies):\n",
    "        for j in range(num_users):\n",
    "            if R[i, j]:\n",
    "                pred = np.dot(W[j, :], X[i, :]) + b[0, j]\n",
    "                J += (pred - Y[i, j]) ** 2\n",
    "    J = J / 2\n",
    "    J += (lambda_ / 2) * (np.sum(W ** 2) + np.sum(X ** 2))\n",
    "    return J"
   ],
   "id": "aa43757ca25e1107",
   "outputs": [],
   "execution_count": 10
  },
  {
   "metadata": {
    "ExecuteTime": {
     "end_time": "2025-05-09T14:34:00.954127Z",
     "start_time": "2025-05-09T14:34:00.940569Z"
    }
   },
   "cell_type": "code",
   "source": [
    "# Gradient Descent function\n",
    "def gradient_descent(X, W, b, Y, R, lambda_, alpha, num_iters):\n",
    "    for _ in range(num_iters):\n",
    "        for i in range(Y.shape[0]):\n",
    "            for j in range(Y.shape[1]):\n",
    "                if R[i, j]:\n",
    "                    error = np.dot(W[j, :], X[i, :]) + b[0, j] - Y[i, j]\n",
    "                    for k in range(num_features):\n",
    "                        X[i, k] -= alpha * (error * W[j, k] + lambda_ * X[i, k])\n",
    "                        W[j, k] -= alpha * (error * X[i, k] + lambda_ * W[j, k])\n",
    "                    b[0, j] -= alpha * error\n",
    "    return X, W, b"
   ],
   "id": "50452a292c7b273d",
   "outputs": [],
   "execution_count": 11
  },
  {
   "metadata": {
    "ExecuteTime": {
     "end_time": "2025-05-09T14:34:23.624283Z",
     "start_time": "2025-05-09T14:34:01.018569Z"
    }
   },
   "cell_type": "code",
   "source": [
    "# Train the model\n",
    "lambda_ = 0.1\n",
    "alpha = 0.005\n",
    "num_iters = 30\n",
    "X, W, b = gradient_descent(X, W, b, Y, R, lambda_, alpha, num_iters)"
   ],
   "id": "b37421b69d6cfd92",
   "outputs": [],
   "execution_count": 12
  },
  {
   "metadata": {
    "ExecuteTime": {
     "end_time": "2025-05-09T14:34:23.736200Z",
     "start_time": "2025-05-09T14:34:23.706195Z"
    }
   },
   "cell_type": "code",
   "source": [
    "# Predictions\n",
    "predictions = X @ W.T + b"
   ],
   "id": "eb3d3942ad55416c",
   "outputs": [],
   "execution_count": 13
  },
  {
   "metadata": {
    "ExecuteTime": {
     "end_time": "2025-05-09T14:34:23.843485Z",
     "start_time": "2025-05-09T14:34:23.814526Z"
    }
   },
   "cell_type": "code",
   "source": [
    "# Evaluate on known entries\n",
    "y_true = Y[R == 1]\n",
    "y_pred = predictions[R == 1]\n",
    "\n",
    "mae = mean_absolute_error(y_true, y_pred)\n",
    "mse = mean_squared_error(y_true, y_pred)\n",
    "rmse = np.sqrt(mse)\n",
    "\n",
    "print(f\"MAE: {mae:.4f}\")\n",
    "print(f\"MSE: {mse:.4f}\")\n",
    "print(f\"RMSE: {rmse:.4f}\")"
   ],
   "id": "1819b4a48e2d4423",
   "outputs": [
    {
     "name": "stdout",
     "output_type": "stream",
     "text": [
      "MAE: 0.1227\n",
      "MSE: 0.0187\n",
      "RMSE: 0.1368\n"
     ]
    }
   ],
   "execution_count": 14
  },
  {
   "metadata": {
    "ExecuteTime": {
     "end_time": "2025-05-09T14:34:23.966293Z",
     "start_time": "2025-05-09T14:34:23.952746Z"
    }
   },
   "cell_type": "code",
   "source": "import pickle",
   "id": "c9f7854fa49315dd",
   "outputs": [],
   "execution_count": 15
  },
  {
   "metadata": {
    "ExecuteTime": {
     "end_time": "2025-05-09T14:34:24.059200Z",
     "start_time": "2025-05-09T14:34:24.029298Z"
    }
   },
   "cell_type": "code",
   "source": [
    "# Save the model components\n",
    "with open(\"anime_cf_model.pkl\", \"wb\") as f:\n",
    "    pickle.dump({\n",
    "        'X': X,\n",
    "        'W': W,\n",
    "        'b': b,\n",
    "        'user_to_index': user_to_index,\n",
    "        'anime_to_index': anime_to_index,\n",
    "        'genre_columns': genre_columns\n",
    "    }, f)\n",
    "\n",
    "print(\"Model saved to anime_cf_model.pkl\")"
   ],
   "id": "ba0aea6b0a6613f3",
   "outputs": [
    {
     "name": "stdout",
     "output_type": "stream",
     "text": [
      "Model saved to anime_cf_model.pkl\n"
     ]
    }
   ],
   "execution_count": 16
  },
  {
   "metadata": {},
   "cell_type": "markdown",
   "source": "Testing the model with pickle",
   "id": "3625edd21e9483b4"
  },
  {
   "metadata": {
    "ExecuteTime": {
     "end_time": "2025-05-09T14:34:24.154252Z",
     "start_time": "2025-05-09T14:34:24.124599Z"
    }
   },
   "cell_type": "code",
   "source": [
    "# Load the model components\n",
    "with open(\"anime_cf_model.pkl\", \"rb\") as f:\n",
    "    model_data = pickle.load(f)\n",
    "\n",
    "X = model_data['X']\n",
    "W = model_data['W']\n",
    "b = model_data['b']\n",
    "user_to_index = model_data['user_to_index']\n",
    "anime_to_index = model_data['anime_to_index']"
   ],
   "id": "60d38329200e63cd",
   "outputs": [],
   "execution_count": 17
  },
  {
   "metadata": {
    "ExecuteTime": {
     "end_time": "2025-05-09T14:34:24.231399Z",
     "start_time": "2025-05-09T14:34:24.218362Z"
    }
   },
   "cell_type": "code",
   "source": [
    "# Invert anime index for mapping back to anime IDs\n",
    "inv_anime_index = {v: k for k, v in anime_to_index.items()}"
   ],
   "id": "a3e0959dc32d2eb3",
   "outputs": [],
   "execution_count": 18
  },
  {
   "metadata": {
    "ExecuteTime": {
     "end_time": "2025-05-09T14:34:24.325074Z",
     "start_time": "2025-05-09T14:34:24.311509Z"
    }
   },
   "cell_type": "code",
   "source": [
    "def recommend_anime_for_user(username, X, W, b, user_to_index, anime_to_index, top_n=10):\n",
    "    if username not in user_to_index:\n",
    "        raise ValueError(\"User not found in training data.\")\n",
    "\n",
    "    user_idx = user_to_index[username]\n",
    "    user_pred = X @ W[user_idx].T + b[0, user_idx]\n",
    "    top_anime_indices = np.argsort(-user_pred)[:top_n]\n",
    "    recommended_ids = [inv_anime_index[i] for i in top_anime_indices]\n",
    "\n",
    "    recommended_titles = anime_df[anime_df['anime_id'].isin(recommended_ids)][['anime_id', 'title']]\n",
    "    # Sort titles in the order of prediction ranking\n",
    "    recommended_titles['rank'] = recommended_titles['anime_id'].apply(lambda x: recommended_ids.index(x))\n",
    "    return recommended_titles.sort_values('rank')[['title']]"
   ],
   "id": "2ae8a787eb27fc0c",
   "outputs": [],
   "execution_count": 19
  },
  {
   "metadata": {
    "ExecuteTime": {
     "end_time": "2025-05-09T14:34:24.436324Z",
     "start_time": "2025-05-09T14:34:24.406400Z"
    }
   },
   "cell_type": "code",
   "source": [
    "import random\n",
    "# Pick a random user\n",
    "random_user = random.choice(list(user_to_index.keys()))\n",
    "print(f\"Generating recommendations for random user: {random_user}\")\n",
    "\n",
    "# Get recommendations\n",
    "recommendations = recommend_anime_for_user(random_user, X, W, b, user_to_index, anime_to_index)\n",
    "print(\"Top recommendations:\")\n",
    "print(recommendations.to_string(index=False))"
   ],
   "id": "7ee033ff6cfe5224",
   "outputs": [
    {
     "name": "stdout",
     "output_type": "stream",
     "text": [
      "Generating recommendations for random user: leSange\n",
      "Top recommendations:\n",
      "                        title\n",
      "       Yojouhan Shinwa Taikei\n",
      "               Yuri!!! on Ice\n",
      "Higurashi no Naku Koro ni Kai\n",
      "             Kotonoha no Niwa\n",
      "      Shigatsu wa Kimi no Uso\n",
      "           Maoyuu Maou Yuusha\n",
      "             Gatchaman Crowds\n",
      "              NHK ni Youkoso!\n",
      "                   Death Note\n",
      "       Katekyo Hitman Reborn!\n"
     ]
    }
   ],
   "execution_count": 20
  }
 ],
 "metadata": {
  "kernelspec": {
   "display_name": "Python 3",
   "language": "python",
   "name": "python3"
  },
  "language_info": {
   "codemirror_mode": {
    "name": "ipython",
    "version": 2
   },
   "file_extension": ".py",
   "mimetype": "text/x-python",
   "name": "python",
   "nbconvert_exporter": "python",
   "pygments_lexer": "ipython2",
   "version": "2.7.6"
  }
 },
 "nbformat": 4,
 "nbformat_minor": 5
}
